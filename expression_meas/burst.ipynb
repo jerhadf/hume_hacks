{
 "cells": [
  {
   "cell_type": "code",
   "execution_count": 2,
   "metadata": {},
   "outputs": [
    {
     "name": "stdout",
     "output_type": "stream",
     "text": [
      "Job(id=\"5f8672bb-37ca-48d9-823f-8c432318ac13\")\n",
      "Running...\n",
      "Predictions downloaded to burst_predictions.json\n"
     ]
    }
   ],
   "source": [
    "# run on sample local file\n",
    "from hume import HumeBatchClient\n",
    "from hume.models.config import BurstConfig\n",
    "\n",
    "client = HumeBatchClient(\"UYrZPqRTHAgU7to39yWF0xCQGfJTIn8WwrOJY4kACWcJhLpp\")\n",
    "filepaths = [\n",
    "    \"stuck_in_the_elevator_SNL.mp3\"\n",
    "]\n",
    "config = BurstConfig()\n",
    "job = client.submit_job(None, [config], files=filepaths)\n",
    "\n",
    "print(job)\n",
    "print(\"Running...\")\n",
    "\n",
    "details = job.await_complete()\n",
    "job.download_predictions(\"burst_predictions.json\")\n",
    "print(\"Predictions downloaded to burst_predictions.json\")"
   ]
  },
  {
   "cell_type": "code",
   "execution_count": 4,
   "metadata": {},
   "outputs": [
    {
     "name": "stdout",
     "output_type": "stream",
     "text": [
      "Predictions downloaded to burst_predictions.json\n"
     ]
    }
   ],
   "source": [
    "import json\n",
    "\n",
    "burst_predictions = job.get_predictions()\n",
    "\n",
    "# Download predictions as JSON\n",
    "with open('burst_predictions.json', 'w') as f:\n",
    "    json.dump(burst_predictions, f, indent=2)\n",
    "\n",
    "print(\"Predictions downloaded to burst_predictions.json\")"
   ]
  },
  {
   "cell_type": "code",
   "execution_count": 5,
   "metadata": {},
   "outputs": [
    {
     "name": "stdout",
     "output_type": "stream",
     "text": [
      "Top 5 Vocal Burst Predictions:\n",
      "1. Ahh: 0.6620\n",
      "2. Ah: 0.5167\n",
      "3. Sigh: 0.4911\n",
      "4. Moan: 0.4073\n",
      "5. Ohh: 0.1589\n"
     ]
    }
   ],
   "source": [
    "import json\n",
    "\n",
    "# Load the JSON file\n",
    "with open('burst_predictions.json', 'r') as f:\n",
    "    data = json.load(f)\n",
    "\n",
    "# Access the descriptions object\n",
    "descriptions = data[0]['results']['predictions'][0]['models']['burst']['grouped_predictions'][0]['predictions'][0]['descriptions']\n",
    "\n",
    "# Sort descriptions by score in descending order\n",
    "sorted_descriptions = sorted(descriptions, key=lambda x: x['score'], reverse=True)\n",
    "\n",
    "# Get the top 5 predictions\n",
    "top_5_predictions = sorted_descriptions[:5]\n",
    "\n",
    "# Print the top 5 predictions\n",
    "print(\"Top 5 Vocal Burst Predictions:\")\n",
    "for i, pred in enumerate(top_5_predictions, 1):\n",
    "    print(f\"{i}. {pred['name']}: {pred['score']:.4f}\")\n"
   ]
  }
 ],
 "metadata": {
  "kernelspec": {
   "display_name": "hume",
   "language": "python",
   "name": "python3"
  },
  "language_info": {
   "codemirror_mode": {
    "name": "ipython",
    "version": 3
   },
   "file_extension": ".py",
   "mimetype": "text/x-python",
   "name": "python",
   "nbconvert_exporter": "python",
   "pygments_lexer": "ipython3",
   "version": "3.11.7"
  }
 },
 "nbformat": 4,
 "nbformat_minor": 2
}
