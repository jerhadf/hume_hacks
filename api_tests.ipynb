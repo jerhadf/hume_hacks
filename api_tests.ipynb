API_KEY = "eixVherUwFs6KoVxrXhqr7SFkPhrEHqAke05UpGlpScqNPD6"

# batch or streaming APIs
# batch will process in parallel a single file and notify when ready, in a few mintues