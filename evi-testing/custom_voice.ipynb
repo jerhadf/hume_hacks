{
 "cells": [
  {
   "cell_type": "code",
   "execution_count": 17,
   "metadata": {},
   "outputs": [
    {
     "ename": "IndentationError",
     "evalue": "expected an indented block after 'while' statement on line 83 (1186907059.py, line 86)",
     "output_type": "error",
     "traceback": [
      "\u001b[0;36m  Cell \u001b[0;32mIn[17], line 86\u001b[0;36m\u001b[0m\n\u001b[0;31m    except InvalidStatusCode as e:\u001b[0m\n\u001b[0m    ^\u001b[0m\n\u001b[0;31mIndentationError\u001b[0m\u001b[0;31m:\u001b[0m expected an indented block after 'while' statement on line 83\n"
     ]
    }
   ],
   "source": [
    "import asyncio\n",
    "import json\n",
    "import websockets\n",
    "import base64\n",
    "import sounddevice as sd\n",
    "import numpy as np\n",
    "import nest_asyncio\n",
    "\n",
    "API_KEY = \"XdnFgR8ESRCNfcoh6V5dfKBZaQD6e68jauRrfUVvl3OYf2RGfyOZ3q7oan7uhB6J\"\n",
    "EVI_URL = f\"wss://api.hume.ai/v0/evi/chat?access_token={API_KEY}\"\n",
    "\n",
    "session_settings = {\n",
    "    \"type\": \"session_settings\",\n",
    "    \"voice\": {\n",
    "        \"provider\": \"custom\",\n",
    "        \"custom_voice\": {\n",
    "            \"name\": \"custom_kora\",\n",
    "            \"base_voice\": \"KORA\",\n",
    "            \"parameter_model\": \"20240715-4parameter\",\n",
    "            \"speech_rate_multiplier\": 1.5,\n",
    "            \"parameters\": {\n",
    "                \"gender\": -50,\n",
    "                \"huskiness\": 0,\n",
    "                \"nasalness\": 0,\n",
    "                \"pitch\": 0\n",
    "            }\n",
    "        }\n",
    "    },\n",
    "    \"audio\": {\n",
    "        \"encoding\": \"linear16\",\n",
    "        \"sample_rate\": 24000,\n",
    "        \"channels\": 1\n",
    "    }\n",
    "}\n",
    "\n",
    "def play_audio(audio_data):\n",
    "    # Convert audio data to numpy array\n",
    "    audio_np = np.frombuffer(audio_data, dtype=np.int16)\n",
    "\n",
    "    # Play the audio\n",
    "    sd.play(audio_np, samplerate=24000)\n",
    "    sd.wait()\n",
    "\n",
    "async def chat_with_evi():\n",
    "    async with websockets.connect(EVI_URL) as websocket:\n",
    "        # Send SessionSettings\n",
    "        await websocket.send(json.dumps(session_settings))\n",
    "        print(\"SessionSettings sent\")\n",
    "\n",
    "        while True:\n",
    "            # Send user input\n",
    "            user_input = input(\"You: \")\n",
    "            if user_input.lower() == 'quit':\n",
    "                break\n",
    "            await websocket.send(json.dumps({\"type\": \"user_input\", \"text\": user_input}))\n",
    "\n",
    "            # Receive and process EVI's response\n",
    "            while True:\n",
    "                response = await websocket.recv()\n",
    "                response_json = json.loads(response)\n",
    "\n",
    "                if response_json['type'] == 'audio_output':\n",
    "                    audio_data = base64.b64decode(response_json['data'])\n",
    "                    play_audio(audio_data)\n",
    "                elif response_json['type'] == 'assistant_message':\n",
    "                    print(\"EVI:\", response_json['message']['content'])\n",
    "                elif response_json['type'] == 'assistant_end':\n",
    "                    break\n",
    "                else:\n",
    "                    print(\"Received:\", response_json)\n",
    "\n",
    "nest_asyncio.apply()\n",
    "await chat_with_evi()"
   ]
  }
 ],
 "metadata": {
  "kernelspec": {
   "display_name": "hume",
   "language": "python",
   "name": "python3"
  },
  "language_info": {
   "codemirror_mode": {
    "name": "ipython",
    "version": 3
   },
   "file_extension": ".py",
   "mimetype": "text/x-python",
   "name": "python",
   "nbconvert_exporter": "python",
   "pygments_lexer": "ipython3",
   "version": "3.11.7"
  }
 },
 "nbformat": 4,
 "nbformat_minor": 2
}
