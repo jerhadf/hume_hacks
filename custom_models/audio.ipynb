{
 "cells": [
  {
   "cell_type": "code",
   "execution_count": 6,
   "metadata": {},
   "outputs": [],
   "source": [
    "from datasets import load_dataset"
   ]
  },
  {
   "cell_type": "code",
   "execution_count": 7,
   "metadata": {},
   "outputs": [
    {
     "name": "stderr",
     "output_type": "stream",
     "text": [
      "Downloading builder script: 100%|██████████| 5.16k/5.16k [00:00<00:00, 8.94MB/s]\n",
      "Downloading readme: 100%|██████████| 4.48k/4.48k [00:00<00:00, 15.2MB/s]\n",
      "Downloading data: 100%|██████████| 4.36G/4.36G [02:10<00:00, 33.4MB/s]\n",
      "Generating train split: 37960 examples [00:02, 14662.78 examples/s]\n",
      "Generating validation split: 4745 examples [00:00, 27804.98 examples/s]\n",
      "Generating test split: 4745 examples [00:00, 26070.72 examples/s]\n"
     ]
    }
   ],
   "source": [
    "# music audio and their genre\n",
    "music_genre = load_dataset(\"ccmusic-database/music_genre\")"
   ]
  },
  {
   "cell_type": "code",
   "execution_count": null,
   "metadata": {},
   "outputs": [],
   "source": [
    "mg_test = load_dataset(\"ccmusic-database/music_genre\", split=\"test\")\n"
   ]
  },
  {
   "cell_type": "code",
   "execution_count": 8,
   "metadata": {},
   "outputs": [
    {
     "ename": "KeyError",
     "evalue": "'label'",
     "output_type": "error",
     "traceback": [
      "\u001b[0;31m---------------------------------------------------------------------------\u001b[0m",
      "\u001b[0;31mKeyError\u001b[0m                                  Traceback (most recent call last)",
      "\u001b[1;32m/Users/jerhadf/Desktop/coding/hume_hacks/custom_models/audio.ipynb Cell 3\u001b[0m line \u001b[0;36m1\n\u001b[1;32m      <a href='vscode-notebook-cell:/Users/jerhadf/Desktop/coding/hume_hacks/custom_models/audio.ipynb#W4sZmlsZQ%3D%3D?line=8'>9</a>\u001b[0m \u001b[39m# get the corresponding samples and their labels\u001b[39;00m\n\u001b[1;32m     <a href='vscode-notebook-cell:/Users/jerhadf/Desktop/coding/hume_hacks/custom_models/audio.ipynb#W4sZmlsZQ%3D%3D?line=9'>10</a>\u001b[0m random_samples \u001b[39m=\u001b[39m [test_split[i] \u001b[39mfor\u001b[39;00m i \u001b[39min\u001b[39;00m random_indices]\n\u001b[0;32m---> <a href='vscode-notebook-cell:/Users/jerhadf/Desktop/coding/hume_hacks/custom_models/audio.ipynb#W4sZmlsZQ%3D%3D?line=10'>11</a>\u001b[0m random_labels \u001b[39m=\u001b[39m [sample[\u001b[39m'\u001b[39;49m\u001b[39mlabel\u001b[39;49m\u001b[39m'\u001b[39;49m] \u001b[39mfor\u001b[39;00m sample \u001b[39min\u001b[39;00m random_samples]\n\u001b[1;32m     <a href='vscode-notebook-cell:/Users/jerhadf/Desktop/coding/hume_hacks/custom_models/audio.ipynb#W4sZmlsZQ%3D%3D?line=12'>13</a>\u001b[0m \u001b[39m# get the connected audio files\u001b[39;00m\n\u001b[1;32m     <a href='vscode-notebook-cell:/Users/jerhadf/Desktop/coding/hume_hacks/custom_models/audio.ipynb#W4sZmlsZQ%3D%3D?line=13'>14</a>\u001b[0m random_audio_files \u001b[39m=\u001b[39m [sample[\u001b[39m'\u001b[39m\u001b[39maudio\u001b[39m\u001b[39m'\u001b[39m] \u001b[39mfor\u001b[39;00m sample \u001b[39min\u001b[39;00m random_samples]\n",
      "\u001b[0;31mKeyError\u001b[0m: 'label'"
     ]
    }
   ],
   "source": [
    "import random\n",
    "\n",
    "# get the test split\n",
    "test_split = music_genre['test']\n",
    "\n",
    "# get 100 random indices from the test split\n",
    "random_indices = random.sample(range(len(test_split)), 100)\n",
    "\n",
    "# get the corresponding samples and their labels\n",
    "random_samples = [test_split[i] for i in random_indices]\n",
    "random_labels = [sample['label'] for sample in random_samples]\n",
    "\n",
    "# get the connected audio files\n",
    "random_audio_files = [sample['audio'] for sample in random_samples]"
   ]
  },
  {
   "cell_type": "code",
   "execution_count": null,
   "metadata": {},
   "outputs": [],
   "source": [
    "# intent detection \n",
    "dataset = load_dataset(\"PolyAI/minds14\")"
   ]
  },
  {
   "cell_type": "code",
   "execution_count": null,
   "metadata": {},
   "outputs": [],
   "source": [
    "# emotion in speech \n",
    "dataset = load_dataset(\"sustcsenlp/bn_emotion_speech_corpus\")"
   ]
  }
 ],
 "metadata": {
  "kernelspec": {
   "display_name": "Python 3",
   "language": "python",
   "name": "python3"
  },
  "language_info": {
   "codemirror_mode": {
    "name": "ipython",
    "version": 3
   },
   "file_extension": ".py",
   "mimetype": "text/x-python",
   "name": "python",
   "nbconvert_exporter": "python",
   "pygments_lexer": "ipython3",
   "version": "3.12.0"
  }
 },
 "nbformat": 4,
 "nbformat_minor": 2
}
